{
  "nbformat": 4,
  "nbformat_minor": 0,
  "metadata": {
    "colab": {
      "name": "Untitled5.ipynb",
      "provenance": [],
      "collapsed_sections": []
    },
    "kernelspec": {
      "name": "python3",
      "display_name": "Python 3"
    },
    "language_info": {
      "name": "python"
    }
  },
  "cells": [
    {
      "cell_type": "code",
      "metadata": {
        "id": "AsteDacG_uZb"
      },
      "source": [
        "import pandas"
      ],
      "execution_count": 1,
      "outputs": []
    },
    {
      "cell_type": "code",
      "metadata": {
        "id": "VyQmW-jn_xEQ"
      },
      "source": [
        "df = pandas.read_csv('/content/data.csv')"
      ],
      "execution_count": 4,
      "outputs": []
    },
    {
      "cell_type": "code",
      "metadata": {
        "id": "7-UkRxDQAKd6"
      },
      "source": [
        "count = total_count = df.groupby([\"product_category\"])['product_title'].count()"
      ],
      "execution_count": 6,
      "outputs": []
    },
    {
      "cell_type": "code",
      "metadata": {
        "colab": {
          "base_uri": "https://localhost:8080/"
        },
        "id": "YC9sFb1iAo2F",
        "outputId": "5af99fdd-f2c7-482c-f0db-9c2f0e5a2bdf"
      },
      "source": [
        "total_count"
      ],
      "execution_count": 7,
      "outputs": [
        {
          "output_type": "execute_result",
          "data": {
            "text/plain": [
              "product_category\n",
              "Інтернет магазин,Wi-Fi роутери,Wi-Fi роутери Asus               64\n",
              "Інтернет магазин,Wi-Fi роутери,Wi-Fi роутери Cisco               1\n",
              "Інтернет магазин,Wi-Fi роутери,Wi-Fi роутери D-Link             26\n",
              "Інтернет магазин,Wi-Fi роутери,Wi-Fi роутери Dahua               1\n",
              "Інтернет магазин,Wi-Fi роутери,Wi-Fi роутери Edimax             10\n",
              "                                                                ..\n",
              "Інтернет магазин,Ювелірні брелки,Ювелірні брелки Maxi Silver    44\n",
              "Інтернет магазин,Ювелірні брелки,Ювелірні брелки NN             37\n",
              "Інтернет магазин,Ювелірні брелки,Ювелірні брелки Present        32\n",
              "Інтернет магазин,Ювелірні брелки,Ювелірні брелки Украина         8\n",
              "Інтернет магазин,Ювелірні шнурки,Ювелірні шнурки Silvex 925      1\n",
              "Name: product_title, Length: 981, dtype: int64"
            ]
          },
          "metadata": {},
          "execution_count": 7
        }
      ]
    },
    {
      "cell_type": "code",
      "metadata": {
        "id": "4RAFUoNRAuAj"
      },
      "source": [
        "availability = df[df['product_availability'] == True].groupby([\"product_category\"])['product_availability'].count()"
      ],
      "execution_count": 9,
      "outputs": []
    },
    {
      "cell_type": "code",
      "metadata": {
        "colab": {
          "base_uri": "https://localhost:8080/"
        },
        "id": "IatGtVrHA-Hy",
        "outputId": "11f592e5-6415-46f7-9da6-111c1d3aca11"
      },
      "source": [
        "availability"
      ],
      "execution_count": 10,
      "outputs": [
        {
          "output_type": "execute_result",
          "data": {
            "text/plain": [
              "product_category\n",
              "Інтернет магазин,Wi-Fi роутери,Wi-Fi роутери Asus               64\n",
              "Інтернет магазин,Wi-Fi роутери,Wi-Fi роутери Cisco               1\n",
              "Інтернет магазин,Wi-Fi роутери,Wi-Fi роутери D-Link             26\n",
              "Інтернет магазин,Wi-Fi роутери,Wi-Fi роутери Dahua               1\n",
              "Інтернет магазин,Wi-Fi роутери,Wi-Fi роутери Edimax             10\n",
              "                                                                ..\n",
              "Інтернет магазин,Ювелірні брелки,Ювелірні брелки Maxi Silver    44\n",
              "Інтернет магазин,Ювелірні брелки,Ювелірні брелки NN             37\n",
              "Інтернет магазин,Ювелірні брелки,Ювелірні брелки Present        32\n",
              "Інтернет магазин,Ювелірні брелки,Ювелірні брелки Украина         8\n",
              "Інтернет магазин,Ювелірні шнурки,Ювелірні шнурки Silvex 925      1\n",
              "Name: product_availability, Length: 784, dtype: int64"
            ]
          },
          "metadata": {},
          "execution_count": 10
        }
      ]
    },
    {
      "cell_type": "code",
      "metadata": {
        "colab": {
          "base_uri": "https://localhost:8080/"
        },
        "id": "Y01f5yMxBLwS",
        "outputId": "3eca81f6-5c56-4d65-8d7e-d73926fba220"
      },
      "source": [
        "df[df['product_price_regular'] != 'None'].groupby(['product_category'])['product_price_regular'].count()"
      ],
      "execution_count": 13,
      "outputs": [
        {
          "output_type": "execute_result",
          "data": {
            "text/plain": [
              "product_category\n",
              "Інтернет магазин,Wi-Fi роутери,Wi-Fi роутери Asus               10\n",
              "Інтернет магазин,Wi-Fi роутери,Wi-Fi роутери Cisco               0\n",
              "Інтернет магазин,Wi-Fi роутери,Wi-Fi роутери D-Link              0\n",
              "Інтернет магазин,Wi-Fi роутери,Wi-Fi роутери Dahua               0\n",
              "Інтернет магазин,Wi-Fi роутери,Wi-Fi роутери Edimax              0\n",
              "                                                                ..\n",
              "Інтернет магазин,Ювелірні брелки,Ювелірні брелки Maxi Silver     1\n",
              "Інтернет магазин,Ювелірні брелки,Ювелірні брелки NN              0\n",
              "Інтернет магазин,Ювелірні брелки,Ювелірні брелки Present         0\n",
              "Інтернет магазин,Ювелірні брелки,Ювелірні брелки Украина         8\n",
              "Інтернет магазин,Ювелірні шнурки,Ювелірні шнурки Silvex 925      1\n",
              "Name: product_price_regular, Length: 981, dtype: int64"
            ]
          },
          "metadata": {},
          "execution_count": 13
        }
      ]
    },
    {
      "cell_type": "code",
      "metadata": {
        "colab": {
          "base_uri": "https://localhost:8080/"
        },
        "id": "q7R4PKDwBYI0",
        "outputId": "0c1a2f4c-0354-4678-84f3-d1b62690b27d"
      },
      "source": [
        "df[df['product_price_regular'] != 'None'].groupby([\"product_category\"])[\"product_price\"].median()"
      ],
      "execution_count": 14,
      "outputs": [
        {
          "output_type": "execute_result",
          "data": {
            "text/plain": [
              "product_category\n",
              "Інтернет магазин,Wi-Fi роутери,Wi-Fi роутери Asus                5049.0\n",
              "Інтернет магазин,Wi-Fi роутери,Wi-Fi роутери Cisco              47314.0\n",
              "Інтернет магазин,Wi-Fi роутери,Wi-Fi роутери D-Link              1005.5\n",
              "Інтернет магазин,Wi-Fi роутери,Wi-Fi роутери Dahua               1480.0\n",
              "Інтернет магазин,Wi-Fi роутери,Wi-Fi роутери Edimax              3038.0\n",
              "                                                                 ...   \n",
              "Інтернет магазин,Ювелірні брелки,Ювелірні брелки Maxi Silver     1610.0\n",
              "Інтернет магазин,Ювелірні брелки,Ювелірні брелки NN               322.0\n",
              "Інтернет магазин,Ювелірні брелки,Ювелірні брелки Present          267.0\n",
              "Інтернет магазин,Ювелірні брелки,Ювелірні брелки Украина         2138.0\n",
              "Інтернет магазин,Ювелірні шнурки,Ювелірні шнурки Silvex 925       293.0\n",
              "Name: product_price, Length: 981, dtype: float64"
            ]
          },
          "metadata": {},
          "execution_count": 14
        }
      ]
    },
    {
      "cell_type": "code",
      "metadata": {
        "id": "MC3RSKLTCbb0"
      },
      "source": [
        ""
      ],
      "execution_count": null,
      "outputs": []
    }
  ]
}